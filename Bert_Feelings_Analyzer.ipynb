{
 "cells": [
  {
   "cell_type": "code",
   "execution_count": 1,
   "metadata": {},
   "outputs": [
    {
     "name": "stderr",
     "output_type": "stream",
     "text": [
      "/Library/Frameworks/Python.framework/Versions/3.12/lib/python3.12/site-packages/tqdm/auto.py:21: TqdmWarning: IProgress not found. Please update jupyter and ipywidgets. See https://ipywidgets.readthedocs.io/en/stable/user_install.html\n",
      "  from .autonotebook import tqdm as notebook_tqdm\n",
      "2025-04-17 12:46:52.102683: I tensorflow/core/platform/cpu_feature_guard.cc:210] This TensorFlow binary is optimized to use available CPU instructions in performance-critical operations.\n",
      "To enable the following instructions: AVX2 FMA, in other operations, rebuild TensorFlow with the appropriate compiler flags.\n"
     ]
    }
   ],
   "source": [
    "from transformers import BertTokenizer,TFBertForSequenceClassification\n",
    "import numpy as np"
   ]
  },
  {
   "cell_type": "code",
   "execution_count": 2,
   "metadata": {},
   "outputs": [
    {
     "name": "stderr",
     "output_type": "stream",
     "text": [
      "All PyTorch model weights were used when initializing TFBertForSequenceClassification.\n",
      "\n",
      "All the weights of TFBertForSequenceClassification were initialized from the PyTorch model.\n",
      "If your task is similar to the task the model of the checkpoint was trained on, you can already use TFBertForSequenceClassification for predictions without further training.\n"
     ]
    }
   ],
   "source": [
    "model_name=\"nlptown/bert-base-multilingual-uncased-sentiment\"\n",
    "tokenizer=BertTokenizer.from_pretrained(model_name)\n",
    "model=TFBertForSequenceClassification.from_pretrained(model_name)\n"
   ]
  },
  {
   "cell_type": "code",
   "execution_count": 3,
   "metadata": {},
   "outputs": [
    {
     "name": "stdout",
     "output_type": "stream",
     "text": [
      "{'input_ids': [101, 151, 12266, 10497, 11531, 10372, 82714, 10159, 102], 'token_type_ids': [0, 0, 0, 0, 0, 0, 0, 0, 0], 'attention_mask': [1, 1, 1, 1, 1, 1, 1, 1, 1]}\n"
     ]
    }
   ],
   "source": [
    "text=\"I did not like this meal\"\n",
    "input=tokenizer(text)\n",
    "print(input)"
   ]
  },
  {
   "cell_type": "code",
   "execution_count": 4,
   "metadata": {},
   "outputs": [],
   "source": [
    "input_ids=input[\"input_ids\"]"
   ]
  },
  {
   "cell_type": "code",
   "execution_count": 5,
   "metadata": {},
   "outputs": [
    {
     "name": "stdout",
     "output_type": "stream",
     "text": [
      "1/1 [==============================] - 24s 24s/step\n"
     ]
    },
    {
     "data": {
      "text/plain": [
       "TFSequenceClassifierOutput(loss=None, logits=array([[ 2.6765103,  2.4234827,  1.0220163, -1.9627671, -3.3940706]],\n",
       "      dtype=float32), hidden_states=None, attentions=None)"
      ]
     },
     "execution_count": 5,
     "metadata": {},
     "output_type": "execute_result"
    }
   ],
   "source": [
    "prediction=model.predict([input_ids])\n",
    "prediction"
   ]
  },
  {
   "cell_type": "code",
   "execution_count": 7,
   "metadata": {},
   "outputs": [
    {
     "data": {
      "text/plain": [
       "array([[ 2.6765103,  2.4234827,  1.0220163, -1.9627671, -3.3940706]],\n",
       "      dtype=float32)"
      ]
     },
     "execution_count": 7,
     "metadata": {},
     "output_type": "execute_result"
    }
   ],
   "source": [
    "logits=prediction.logits\n",
    "logits"
   ]
  },
  {
   "cell_type": "code",
   "execution_count": 8,
   "metadata": {},
   "outputs": [
    {
     "data": {
      "text/plain": [
       "0"
      ]
     },
     "execution_count": 8,
     "metadata": {},
     "output_type": "execute_result"
    }
   ],
   "source": [
    "predicted_class=np.argmax(logits)#=> it returns the index of the class with the highest score\n",
    "predicted_class"
   ]
  },
  {
   "cell_type": "code",
   "execution_count": 9,
   "metadata": {},
   "outputs": [],
   "source": [
    "def getTheClassIndex(text):\n",
    "    input=tokenizer(text)\n",
    "    input_ids=input[\"input_ids\"]\n",
    "    prediction=model.predict([input_ids])\n",
    "    logits=prediction.logits\n",
    "    class_index=np.argmax(logits)\n",
    "    return class_index"
   ]
  },
  {
   "cell_type": "code",
   "execution_count": 11,
   "metadata": {},
   "outputs": [
    {
     "name": "stdout",
     "output_type": "stream",
     "text": [
      "1/1 [==============================] - 0s 87ms/step\n"
     ]
    },
    {
     "data": {
      "text/plain": [
       "'very negative'"
      ]
     },
     "execution_count": 11,
     "metadata": {},
     "output_type": "execute_result"
    }
   ],
   "source": [
    "mapping_dict={\n",
    "    0:\"very negative\",\n",
    "    1:\"negative\",\n",
    "    2:\"neutral\",\n",
    "    3:\"positive\",\n",
    "    4:\"very positive\"\n",
    "}\n",
    "def getSentiment(text):\n",
    "    class_index=getTheClassIndex(text)\n",
    "    sentiment=mapping_dict[class_index]\n",
    "    return sentiment\n",
    "getSentiment(text)"
   ]
  },
  {
   "cell_type": "code",
   "execution_count": 13,
   "metadata": {},
   "outputs": [
    {
     "data": {
      "text/html": [
       "<div>\n",
       "<style scoped>\n",
       "    .dataframe tbody tr th:only-of-type {\n",
       "        vertical-align: middle;\n",
       "    }\n",
       "\n",
       "    .dataframe tbody tr th {\n",
       "        vertical-align: top;\n",
       "    }\n",
       "\n",
       "    .dataframe thead th {\n",
       "        text-align: right;\n",
       "    }\n",
       "</style>\n",
       "<table border=\"1\" class=\"dataframe\">\n",
       "  <thead>\n",
       "    <tr style=\"text-align: right;\">\n",
       "      <th></th>\n",
       "      <th>review</th>\n",
       "      <th>sentiment</th>\n",
       "    </tr>\n",
       "  </thead>\n",
       "  <tbody>\n",
       "    <tr>\n",
       "      <th>0</th>\n",
       "      <td>One of the other reviewers has mentioned that ...</td>\n",
       "      <td>positive</td>\n",
       "    </tr>\n",
       "    <tr>\n",
       "      <th>1</th>\n",
       "      <td>A wonderful little production. &lt;br /&gt;&lt;br /&gt;The...</td>\n",
       "      <td>positive</td>\n",
       "    </tr>\n",
       "    <tr>\n",
       "      <th>2</th>\n",
       "      <td>I thought this was a wonderful way to spend ti...</td>\n",
       "      <td>positive</td>\n",
       "    </tr>\n",
       "    <tr>\n",
       "      <th>3</th>\n",
       "      <td>Basically there's a family where a little boy ...</td>\n",
       "      <td>negative</td>\n",
       "    </tr>\n",
       "    <tr>\n",
       "      <th>4</th>\n",
       "      <td>Petter Mattei's \"Love in the Time of Money\" is...</td>\n",
       "      <td>positive</td>\n",
       "    </tr>\n",
       "  </tbody>\n",
       "</table>\n",
       "</div>"
      ],
      "text/plain": [
       "                                              review sentiment\n",
       "0  One of the other reviewers has mentioned that ...  positive\n",
       "1  A wonderful little production. <br /><br />The...  positive\n",
       "2  I thought this was a wonderful way to spend ti...  positive\n",
       "3  Basically there's a family where a little boy ...  negative\n",
       "4  Petter Mattei's \"Love in the Time of Money\" is...  positive"
      ]
     },
     "execution_count": 13,
     "metadata": {},
     "output_type": "execute_result"
    }
   ],
   "source": [
    "import pandas as pd \n",
    "data_path=\"IMDB Dataset.csv\"\n",
    "df=pd.read_csv(data_path)\n",
    "df.head()"
   ]
  },
  {
   "cell_type": "code",
   "execution_count": 14,
   "metadata": {},
   "outputs": [
    {
     "data": {
      "text/html": [
       "<div>\n",
       "<style scoped>\n",
       "    .dataframe tbody tr th:only-of-type {\n",
       "        vertical-align: middle;\n",
       "    }\n",
       "\n",
       "    .dataframe tbody tr th {\n",
       "        vertical-align: top;\n",
       "    }\n",
       "\n",
       "    .dataframe thead th {\n",
       "        text-align: right;\n",
       "    }\n",
       "</style>\n",
       "<table border=\"1\" class=\"dataframe\">\n",
       "  <thead>\n",
       "    <tr style=\"text-align: right;\">\n",
       "      <th></th>\n",
       "      <th>review</th>\n",
       "      <th>sentiment</th>\n",
       "    </tr>\n",
       "  </thead>\n",
       "  <tbody>\n",
       "    <tr>\n",
       "      <th>0</th>\n",
       "      <td>One of the other reviewers has mentioned that ...</td>\n",
       "      <td>positive</td>\n",
       "    </tr>\n",
       "    <tr>\n",
       "      <th>1</th>\n",
       "      <td>A wonderful little production. &lt;br /&gt;&lt;br /&gt;The...</td>\n",
       "      <td>positive</td>\n",
       "    </tr>\n",
       "    <tr>\n",
       "      <th>2</th>\n",
       "      <td>I thought this was a wonderful way to spend ti...</td>\n",
       "      <td>positive</td>\n",
       "    </tr>\n",
       "    <tr>\n",
       "      <th>3</th>\n",
       "      <td>Basically there's a family where a little boy ...</td>\n",
       "      <td>negative</td>\n",
       "    </tr>\n",
       "    <tr>\n",
       "      <th>4</th>\n",
       "      <td>Petter Mattei's \"Love in the Time of Money\" is...</td>\n",
       "      <td>positive</td>\n",
       "    </tr>\n",
       "    <tr>\n",
       "      <th>5</th>\n",
       "      <td>Probably my all-time favorite movie, a story o...</td>\n",
       "      <td>positive</td>\n",
       "    </tr>\n",
       "    <tr>\n",
       "      <th>6</th>\n",
       "      <td>I sure would like to see a resurrection of a u...</td>\n",
       "      <td>positive</td>\n",
       "    </tr>\n",
       "    <tr>\n",
       "      <th>7</th>\n",
       "      <td>This show was an amazing, fresh &amp; innovative i...</td>\n",
       "      <td>negative</td>\n",
       "    </tr>\n",
       "    <tr>\n",
       "      <th>8</th>\n",
       "      <td>Encouraged by the positive comments about this...</td>\n",
       "      <td>negative</td>\n",
       "    </tr>\n",
       "    <tr>\n",
       "      <th>9</th>\n",
       "      <td>If you like original gut wrenching laughter yo...</td>\n",
       "      <td>positive</td>\n",
       "    </tr>\n",
       "  </tbody>\n",
       "</table>\n",
       "</div>"
      ],
      "text/plain": [
       "                                              review sentiment\n",
       "0  One of the other reviewers has mentioned that ...  positive\n",
       "1  A wonderful little production. <br /><br />The...  positive\n",
       "2  I thought this was a wonderful way to spend ti...  positive\n",
       "3  Basically there's a family where a little boy ...  negative\n",
       "4  Petter Mattei's \"Love in the Time of Money\" is...  positive\n",
       "5  Probably my all-time favorite movie, a story o...  positive\n",
       "6  I sure would like to see a resurrection of a u...  positive\n",
       "7  This show was an amazing, fresh & innovative i...  negative\n",
       "8  Encouraged by the positive comments about this...  negative\n",
       "9  If you like original gut wrenching laughter yo...  positive"
      ]
     },
     "execution_count": 14,
     "metadata": {},
     "output_type": "execute_result"
    }
   ],
   "source": [
    "frist_10_rows=df.head(10)\n",
    "frist_10_rows"
   ]
  },
  {
   "cell_type": "code",
   "execution_count": 15,
   "metadata": {},
   "outputs": [
    {
     "name": "stdout",
     "output_type": "stream",
     "text": [
      "1/1 [==============================] - 18s 18s/step\n",
      "1/1 [==============================] - 1s 1s/step\n",
      "1/1 [==============================] - 1s 1s/step\n",
      "1/1 [==============================] - 1s 821ms/step\n",
      "1/1 [==============================] - 1s 1s/step\n",
      "1/1 [==============================] - 1s 768ms/step\n",
      "1/1 [==============================] - 1s 794ms/step\n",
      "1/1 [==============================] - 1s 1s/step\n",
      "1/1 [==============================] - 1s 953ms/step\n",
      "1/1 [==============================] - 0s 362ms/step\n"
     ]
    }
   ],
   "source": [
    "copy_frist_10_rows=frist_10_rows.copy()\n",
    "predicted_sentiments=[]\n",
    "for i in copy_frist_10_rows[\"review\"]:\n",
    "    predicted_sentiments.append(getSentiment(i))\n",
    "    "
   ]
  },
  {
   "cell_type": "code",
   "execution_count": 17,
   "metadata": {},
   "outputs": [
    {
     "data": {
      "text/html": [
       "<div>\n",
       "<style scoped>\n",
       "    .dataframe tbody tr th:only-of-type {\n",
       "        vertical-align: middle;\n",
       "    }\n",
       "\n",
       "    .dataframe tbody tr th {\n",
       "        vertical-align: top;\n",
       "    }\n",
       "\n",
       "    .dataframe thead th {\n",
       "        text-align: right;\n",
       "    }\n",
       "</style>\n",
       "<table border=\"1\" class=\"dataframe\">\n",
       "  <thead>\n",
       "    <tr style=\"text-align: right;\">\n",
       "      <th></th>\n",
       "      <th>review</th>\n",
       "      <th>sentiment</th>\n",
       "      <th>predicted_sentiment</th>\n",
       "    </tr>\n",
       "  </thead>\n",
       "  <tbody>\n",
       "    <tr>\n",
       "      <th>0</th>\n",
       "      <td>One of the other reviewers has mentioned that ...</td>\n",
       "      <td>positive</td>\n",
       "      <td>neutral</td>\n",
       "    </tr>\n",
       "    <tr>\n",
       "      <th>1</th>\n",
       "      <td>A wonderful little production. &lt;br /&gt;&lt;br /&gt;The...</td>\n",
       "      <td>positive</td>\n",
       "      <td>very positive</td>\n",
       "    </tr>\n",
       "    <tr>\n",
       "      <th>2</th>\n",
       "      <td>I thought this was a wonderful way to spend ti...</td>\n",
       "      <td>positive</td>\n",
       "      <td>positive</td>\n",
       "    </tr>\n",
       "    <tr>\n",
       "      <th>3</th>\n",
       "      <td>Basically there's a family where a little boy ...</td>\n",
       "      <td>negative</td>\n",
       "      <td>neutral</td>\n",
       "    </tr>\n",
       "    <tr>\n",
       "      <th>4</th>\n",
       "      <td>Petter Mattei's \"Love in the Time of Money\" is...</td>\n",
       "      <td>positive</td>\n",
       "      <td>positive</td>\n",
       "    </tr>\n",
       "    <tr>\n",
       "      <th>5</th>\n",
       "      <td>Probably my all-time favorite movie, a story o...</td>\n",
       "      <td>positive</td>\n",
       "      <td>very positive</td>\n",
       "    </tr>\n",
       "    <tr>\n",
       "      <th>6</th>\n",
       "      <td>I sure would like to see a resurrection of a u...</td>\n",
       "      <td>positive</td>\n",
       "      <td>neutral</td>\n",
       "    </tr>\n",
       "    <tr>\n",
       "      <th>7</th>\n",
       "      <td>This show was an amazing, fresh &amp; innovative i...</td>\n",
       "      <td>negative</td>\n",
       "      <td>negative</td>\n",
       "    </tr>\n",
       "    <tr>\n",
       "      <th>8</th>\n",
       "      <td>Encouraged by the positive comments about this...</td>\n",
       "      <td>negative</td>\n",
       "      <td>very negative</td>\n",
       "    </tr>\n",
       "    <tr>\n",
       "      <th>9</th>\n",
       "      <td>If you like original gut wrenching laughter yo...</td>\n",
       "      <td>positive</td>\n",
       "      <td>very positive</td>\n",
       "    </tr>\n",
       "  </tbody>\n",
       "</table>\n",
       "</div>"
      ],
      "text/plain": [
       "                                              review sentiment  \\\n",
       "0  One of the other reviewers has mentioned that ...  positive   \n",
       "1  A wonderful little production. <br /><br />The...  positive   \n",
       "2  I thought this was a wonderful way to spend ti...  positive   \n",
       "3  Basically there's a family where a little boy ...  negative   \n",
       "4  Petter Mattei's \"Love in the Time of Money\" is...  positive   \n",
       "5  Probably my all-time favorite movie, a story o...  positive   \n",
       "6  I sure would like to see a resurrection of a u...  positive   \n",
       "7  This show was an amazing, fresh & innovative i...  negative   \n",
       "8  Encouraged by the positive comments about this...  negative   \n",
       "9  If you like original gut wrenching laughter yo...  positive   \n",
       "\n",
       "  predicted_sentiment  \n",
       "0             neutral  \n",
       "1       very positive  \n",
       "2            positive  \n",
       "3             neutral  \n",
       "4            positive  \n",
       "5       very positive  \n",
       "6             neutral  \n",
       "7            negative  \n",
       "8       very negative  \n",
       "9       very positive  "
      ]
     },
     "execution_count": 17,
     "metadata": {},
     "output_type": "execute_result"
    }
   ],
   "source": [
    "copy_frist_10_rows[\"predicted_sentiment\"]=predicted_sentiments\n",
    "copy_frist_10_rows"
   ]
  },
  {
   "cell_type": "markdown",
   "metadata": {},
   "source": [
    "Bert Model for Arbic language\n"
   ]
  },
  {
   "cell_type": "code",
   "execution_count": 5,
   "metadata": {},
   "outputs": [
    {
     "name": "stderr",
     "output_type": "stream",
     "text": [
      "/Library/Frameworks/Python.framework/Versions/3.12/lib/python3.12/site-packages/tqdm/auto.py:21: TqdmWarning: IProgress not found. Please update jupyter and ipywidgets. See https://ipywidgets.readthedocs.io/en/stable/user_install.html\n",
      "  from .autonotebook import tqdm as notebook_tqdm\n",
      "2025-04-17 14:09:11.653771: I tensorflow/core/platform/cpu_feature_guard.cc:210] This TensorFlow binary is optimized to use available CPU instructions in performance-critical operations.\n",
      "To enable the following instructions: AVX2 FMA, in other operations, rebuild TensorFlow with the appropriate compiler flags.\n"
     ]
    }
   ],
   "source": [
    "from transformers import pipeline"
   ]
  },
  {
   "cell_type": "code",
   "execution_count": 6,
   "metadata": {},
   "outputs": [
    {
     "name": "stderr",
     "output_type": "stream",
     "text": [
      "Error while downloading from https://cdn-lfs.hf.co/CAMeL-Lab/bert-base-arabic-camelbert-da-sentiment/e873919e8a1e90663870a791d7eda9dabc572b03605cf671d9478f60e0230c0c?response-content-disposition=inline%3B+filename*%3DUTF-8%27%27pytorch_model.bin%3B+filename%3D%22pytorch_model.bin%22%3B&response-content-type=application%2Foctet-stream&Expires=1744895457&Policy=eyJTdGF0ZW1lbnQiOlt7IkNvbmRpdGlvbiI6eyJEYXRlTGVzc1RoYW4iOnsiQVdTOkVwb2NoVGltZSI6MTc0NDg5NTQ1N319LCJSZXNvdXJjZSI6Imh0dHBzOi8vY2RuLWxmcy5oZi5jby9DQU1lTC1MYWIvYmVydC1iYXNlLWFyYWJpYy1jYW1lbGJlcnQtZGEtc2VudGltZW50L2U4NzM5MTllOGExZTkwNjYzODcwYTc5MWQ3ZWRhOWRhYmM1NzJiMDM2MDVjZjY3MWQ5NDc4ZjYwZTAyMzBjMGM%7EcmVzcG9uc2UtY29udGVudC1kaXNwb3NpdGlvbj0qJnJlc3BvbnNlLWNvbnRlbnQtdHlwZT0qIn1dfQ__&Signature=T5W2SUTKkir6XlkMnu-cZaoLeBR1QGZYtVvdsFTJWE8b8meXCC2tBnr9YdIC5ljnse7WNMM-QBbjaGnxe3JCC9egnzdNY0BmyeTPMio5WQmpLksW2AWWuWWuz7y2naEp0BfW4Z-Kw4tfp6XL22DnvoY4G9gkBjah6iGUskCJeuvKeCLmaFzL8FOw5Livs2w8MLLrBvxr2-KthNwyFqBxtgF9Poc9oEPN4ZDtr7l%7E06Tif5aYWHMNdaJpXAVyOWdPUYaOGkEijBNZ8j-CDoU1Jrho2Yu3w0CexCzk-sDeVW6LxCUORrcPC2aIwIP0Z4AI8FrpO4XinNf%7E1omkG-%7Eh-g__&Key-Pair-Id=K3RPWS32NSSJCE: HTTPSConnectionPool(host='cdn-lfs.hf.co', port=443): Read timed out.\n",
      "Trying to resume download...\n",
      "Error while downloading from https://cdn-lfs.hf.co/CAMeL-Lab/bert-base-arabic-camelbert-da-sentiment/e873919e8a1e90663870a791d7eda9dabc572b03605cf671d9478f60e0230c0c?response-content-disposition=inline%3B+filename*%3DUTF-8%27%27pytorch_model.bin%3B+filename%3D%22pytorch_model.bin%22%3B&response-content-type=application%2Foctet-stream&Expires=1744895457&Policy=eyJTdGF0ZW1lbnQiOlt7IkNvbmRpdGlvbiI6eyJEYXRlTGVzc1RoYW4iOnsiQVdTOkVwb2NoVGltZSI6MTc0NDg5NTQ1N319LCJSZXNvdXJjZSI6Imh0dHBzOi8vY2RuLWxmcy5oZi5jby9DQU1lTC1MYWIvYmVydC1iYXNlLWFyYWJpYy1jYW1lbGJlcnQtZGEtc2VudGltZW50L2U4NzM5MTllOGExZTkwNjYzODcwYTc5MWQ3ZWRhOWRhYmM1NzJiMDM2MDVjZjY3MWQ5NDc4ZjYwZTAyMzBjMGM%7EcmVzcG9uc2UtY29udGVudC1kaXNwb3NpdGlvbj0qJnJlc3BvbnNlLWNvbnRlbnQtdHlwZT0qIn1dfQ__&Signature=T5W2SUTKkir6XlkMnu-cZaoLeBR1QGZYtVvdsFTJWE8b8meXCC2tBnr9YdIC5ljnse7WNMM-QBbjaGnxe3JCC9egnzdNY0BmyeTPMio5WQmpLksW2AWWuWWuz7y2naEp0BfW4Z-Kw4tfp6XL22DnvoY4G9gkBjah6iGUskCJeuvKeCLmaFzL8FOw5Livs2w8MLLrBvxr2-KthNwyFqBxtgF9Poc9oEPN4ZDtr7l%7E06Tif5aYWHMNdaJpXAVyOWdPUYaOGkEijBNZ8j-CDoU1Jrho2Yu3w0CexCzk-sDeVW6LxCUORrcPC2aIwIP0Z4AI8FrpO4XinNf%7E1omkG-%7Eh-g__&Key-Pair-Id=K3RPWS32NSSJCE: HTTPSConnectionPool(host='cdn-lfs.hf.co', port=443): Read timed out.\n",
      "Trying to resume download...\n",
      "Error while downloading from https://cdn-lfs.hf.co/CAMeL-Lab/bert-base-arabic-camelbert-da-sentiment/e873919e8a1e90663870a791d7eda9dabc572b03605cf671d9478f60e0230c0c?response-content-disposition=inline%3B+filename*%3DUTF-8%27%27pytorch_model.bin%3B+filename%3D%22pytorch_model.bin%22%3B&response-content-type=application%2Foctet-stream&Expires=1744895457&Policy=eyJTdGF0ZW1lbnQiOlt7IkNvbmRpdGlvbiI6eyJEYXRlTGVzc1RoYW4iOnsiQVdTOkVwb2NoVGltZSI6MTc0NDg5NTQ1N319LCJSZXNvdXJjZSI6Imh0dHBzOi8vY2RuLWxmcy5oZi5jby9DQU1lTC1MYWIvYmVydC1iYXNlLWFyYWJpYy1jYW1lbGJlcnQtZGEtc2VudGltZW50L2U4NzM5MTllOGExZTkwNjYzODcwYTc5MWQ3ZWRhOWRhYmM1NzJiMDM2MDVjZjY3MWQ5NDc4ZjYwZTAyMzBjMGM%7EcmVzcG9uc2UtY29udGVudC1kaXNwb3NpdGlvbj0qJnJlc3BvbnNlLWNvbnRlbnQtdHlwZT0qIn1dfQ__&Signature=T5W2SUTKkir6XlkMnu-cZaoLeBR1QGZYtVvdsFTJWE8b8meXCC2tBnr9YdIC5ljnse7WNMM-QBbjaGnxe3JCC9egnzdNY0BmyeTPMio5WQmpLksW2AWWuWWuz7y2naEp0BfW4Z-Kw4tfp6XL22DnvoY4G9gkBjah6iGUskCJeuvKeCLmaFzL8FOw5Livs2w8MLLrBvxr2-KthNwyFqBxtgF9Poc9oEPN4ZDtr7l%7E06Tif5aYWHMNdaJpXAVyOWdPUYaOGkEijBNZ8j-CDoU1Jrho2Yu3w0CexCzk-sDeVW6LxCUORrcPC2aIwIP0Z4AI8FrpO4XinNf%7E1omkG-%7Eh-g__&Key-Pair-Id=K3RPWS32NSSJCE: HTTPSConnectionPool(host='cdn-lfs.hf.co', port=443): Read timed out.\n",
      "Trying to resume download...\n",
      "Error while downloading from https://cdn-lfs.hf.co/CAMeL-Lab/bert-base-arabic-camelbert-da-sentiment/e873919e8a1e90663870a791d7eda9dabc572b03605cf671d9478f60e0230c0c?response-content-disposition=inline%3B+filename*%3DUTF-8%27%27pytorch_model.bin%3B+filename%3D%22pytorch_model.bin%22%3B&response-content-type=application%2Foctet-stream&Expires=1744895457&Policy=eyJTdGF0ZW1lbnQiOlt7IkNvbmRpdGlvbiI6eyJEYXRlTGVzc1RoYW4iOnsiQVdTOkVwb2NoVGltZSI6MTc0NDg5NTQ1N319LCJSZXNvdXJjZSI6Imh0dHBzOi8vY2RuLWxmcy5oZi5jby9DQU1lTC1MYWIvYmVydC1iYXNlLWFyYWJpYy1jYW1lbGJlcnQtZGEtc2VudGltZW50L2U4NzM5MTllOGExZTkwNjYzODcwYTc5MWQ3ZWRhOWRhYmM1NzJiMDM2MDVjZjY3MWQ5NDc4ZjYwZTAyMzBjMGM%7EcmVzcG9uc2UtY29udGVudC1kaXNwb3NpdGlvbj0qJnJlc3BvbnNlLWNvbnRlbnQtdHlwZT0qIn1dfQ__&Signature=T5W2SUTKkir6XlkMnu-cZaoLeBR1QGZYtVvdsFTJWE8b8meXCC2tBnr9YdIC5ljnse7WNMM-QBbjaGnxe3JCC9egnzdNY0BmyeTPMio5WQmpLksW2AWWuWWuz7y2naEp0BfW4Z-Kw4tfp6XL22DnvoY4G9gkBjah6iGUskCJeuvKeCLmaFzL8FOw5Livs2w8MLLrBvxr2-KthNwyFqBxtgF9Poc9oEPN4ZDtr7l%7E06Tif5aYWHMNdaJpXAVyOWdPUYaOGkEijBNZ8j-CDoU1Jrho2Yu3w0CexCzk-sDeVW6LxCUORrcPC2aIwIP0Z4AI8FrpO4XinNf%7E1omkG-%7Eh-g__&Key-Pair-Id=K3RPWS32NSSJCE: HTTPSConnectionPool(host='cdn-lfs.hf.co', port=443): Read timed out.\n",
      "Trying to resume download...\n",
      "Error while downloading from https://cdn-lfs.hf.co/CAMeL-Lab/bert-base-arabic-camelbert-da-sentiment/44f42e386a8aefa18a6de8d58e48bdbd1e31b039acaef364d762df4f0b049f31?response-content-disposition=inline%3B+filename*%3DUTF-8%27%27tf_model.h5%3B+filename%3D%22tf_model.h5%22%3B&Expires=1744899669&Policy=eyJTdGF0ZW1lbnQiOlt7IkNvbmRpdGlvbiI6eyJEYXRlTGVzc1RoYW4iOnsiQVdTOkVwb2NoVGltZSI6MTc0NDg5OTY2OX19LCJSZXNvdXJjZSI6Imh0dHBzOi8vY2RuLWxmcy5oZi5jby9DQU1lTC1MYWIvYmVydC1iYXNlLWFyYWJpYy1jYW1lbGJlcnQtZGEtc2VudGltZW50LzQ0ZjQyZTM4NmE4YWVmYTE4YTZkZThkNThlNDhiZGJkMWUzMWIwMzlhY2FlZjM2NGQ3NjJkZjRmMGIwNDlmMzE%7EcmVzcG9uc2UtY29udGVudC1kaXNwb3NpdGlvbj0qIn1dfQ__&Signature=oTHP9-CqLBMILluvkl28NKitVffHxP0%7ExDCxAC9FEzKhjixIXbU7kcdZDScBLbZBVT5x4FuEppM9w0PwcC6W4TsnBS0kTFe4GXechtSMuJWo2GKWGCv5ARMJ4e-DTjtd2dQyUpYU12ZjsUrC2nkivGHVimJm14fMTFZLBAIRaABG-xe3DRuc8PfqMyqKbvH1UQa1tJnm65ad-z0WvTp1Vz4H1Kh73%7ErSATCZ6kZN3hLA4sH6mNnxoqQ2O17yoQEUDAx3jYe6%7E-jMmcup7H9mEi3Kvd4Yl7cWqOBe4G-DUZ4G4eBSmwu0HqT3IxZQSi-MG3oyoAMWYaQrNcPy6oYQzg__&Key-Pair-Id=K3RPWS32NSSJCE: HTTPSConnectionPool(host='cdn-lfs.hf.co', port=443): Read timed out.\n",
      "Trying to resume download...\n",
      "Error while downloading from https://cdn-lfs.hf.co/CAMeL-Lab/bert-base-arabic-camelbert-da-sentiment/44f42e386a8aefa18a6de8d58e48bdbd1e31b039acaef364d762df4f0b049f31?response-content-disposition=inline%3B+filename*%3DUTF-8%27%27tf_model.h5%3B+filename%3D%22tf_model.h5%22%3B&Expires=1744899669&Policy=eyJTdGF0ZW1lbnQiOlt7IkNvbmRpdGlvbiI6eyJEYXRlTGVzc1RoYW4iOnsiQVdTOkVwb2NoVGltZSI6MTc0NDg5OTY2OX19LCJSZXNvdXJjZSI6Imh0dHBzOi8vY2RuLWxmcy5oZi5jby9DQU1lTC1MYWIvYmVydC1iYXNlLWFyYWJpYy1jYW1lbGJlcnQtZGEtc2VudGltZW50LzQ0ZjQyZTM4NmE4YWVmYTE4YTZkZThkNThlNDhiZGJkMWUzMWIwMzlhY2FlZjM2NGQ3NjJkZjRmMGIwNDlmMzE%7EcmVzcG9uc2UtY29udGVudC1kaXNwb3NpdGlvbj0qIn1dfQ__&Signature=oTHP9-CqLBMILluvkl28NKitVffHxP0%7ExDCxAC9FEzKhjixIXbU7kcdZDScBLbZBVT5x4FuEppM9w0PwcC6W4TsnBS0kTFe4GXechtSMuJWo2GKWGCv5ARMJ4e-DTjtd2dQyUpYU12ZjsUrC2nkivGHVimJm14fMTFZLBAIRaABG-xe3DRuc8PfqMyqKbvH1UQa1tJnm65ad-z0WvTp1Vz4H1Kh73%7ErSATCZ6kZN3hLA4sH6mNnxoqQ2O17yoQEUDAx3jYe6%7E-jMmcup7H9mEi3Kvd4Yl7cWqOBe4G-DUZ4G4eBSmwu0HqT3IxZQSi-MG3oyoAMWYaQrNcPy6oYQzg__&Key-Pair-Id=K3RPWS32NSSJCE: HTTPSConnectionPool(host='cdn-lfs.hf.co', port=443): Read timed out.\n",
      "Trying to resume download...\n",
      "Error while downloading from https://cdn-lfs.hf.co/CAMeL-Lab/bert-base-arabic-camelbert-da-sentiment/44f42e386a8aefa18a6de8d58e48bdbd1e31b039acaef364d762df4f0b049f31?response-content-disposition=inline%3B+filename*%3DUTF-8%27%27tf_model.h5%3B+filename%3D%22tf_model.h5%22%3B&Expires=1744899669&Policy=eyJTdGF0ZW1lbnQiOlt7IkNvbmRpdGlvbiI6eyJEYXRlTGVzc1RoYW4iOnsiQVdTOkVwb2NoVGltZSI6MTc0NDg5OTY2OX19LCJSZXNvdXJjZSI6Imh0dHBzOi8vY2RuLWxmcy5oZi5jby9DQU1lTC1MYWIvYmVydC1iYXNlLWFyYWJpYy1jYW1lbGJlcnQtZGEtc2VudGltZW50LzQ0ZjQyZTM4NmE4YWVmYTE4YTZkZThkNThlNDhiZGJkMWUzMWIwMzlhY2FlZjM2NGQ3NjJkZjRmMGIwNDlmMzE%7EcmVzcG9uc2UtY29udGVudC1kaXNwb3NpdGlvbj0qIn1dfQ__&Signature=oTHP9-CqLBMILluvkl28NKitVffHxP0%7ExDCxAC9FEzKhjixIXbU7kcdZDScBLbZBVT5x4FuEppM9w0PwcC6W4TsnBS0kTFe4GXechtSMuJWo2GKWGCv5ARMJ4e-DTjtd2dQyUpYU12ZjsUrC2nkivGHVimJm14fMTFZLBAIRaABG-xe3DRuc8PfqMyqKbvH1UQa1tJnm65ad-z0WvTp1Vz4H1Kh73%7ErSATCZ6kZN3hLA4sH6mNnxoqQ2O17yoQEUDAx3jYe6%7E-jMmcup7H9mEi3Kvd4Yl7cWqOBe4G-DUZ4G4eBSmwu0HqT3IxZQSi-MG3oyoAMWYaQrNcPy6oYQzg__&Key-Pair-Id=K3RPWS32NSSJCE: HTTPSConnectionPool(host='cdn-lfs.hf.co', port=443): Read timed out.\n",
      "Trying to resume download...\n",
      "Some layers from the model checkpoint at CAMeL-Lab/bert-base-arabic-camelbert-da-sentiment were not used when initializing TFBertForSequenceClassification: ['dropout_113']\n",
      "- This IS expected if you are initializing TFBertForSequenceClassification from the checkpoint of a model trained on another task or with another architecture (e.g. initializing a BertForSequenceClassification model from a BertForPreTraining model).\n",
      "- This IS NOT expected if you are initializing TFBertForSequenceClassification from the checkpoint of a model that you expect to be exactly identical (initializing a BertForSequenceClassification model from a BertForSequenceClassification model).\n",
      "All the layers of TFBertForSequenceClassification were initialized from the model checkpoint at CAMeL-Lab/bert-base-arabic-camelbert-da-sentiment.\n",
      "If your task is similar to the task the model of the checkpoint was trained on, you can already use TFBertForSequenceClassification for predictions without further training.\n",
      "Device set to use 0\n"
     ]
    },
    {
     "data": {
      "text/plain": [
       "[{'label': 'positive', 'score': 0.8008127212524414},\n",
       " {'label': 'negative', 'score': 0.6131932139396667}]"
      ]
     },
     "execution_count": 6,
     "metadata": {},
     "output_type": "execute_result"
    }
   ],
   "source": [
    "from transformers import pipeline\n",
    "sa = pipeline('text-classification', model='CAMeL-Lab/bert-base-arabic-camelbert-da-sentiment')\n",
    "sentences = ['أنا بخير', 'أنا لست بخير']\n",
    "sa(sentences)\n"
   ]
  },
  {
   "cell_type": "code",
   "execution_count": null,
   "metadata": {},
   "outputs": [],
   "source": []
  }
 ],
 "metadata": {
  "kernelspec": {
   "display_name": "Python 3",
   "language": "python",
   "name": "python3"
  },
  "language_info": {
   "codemirror_mode": {
    "name": "ipython",
    "version": 3
   },
   "file_extension": ".py",
   "mimetype": "text/x-python",
   "name": "python",
   "nbconvert_exporter": "python",
   "pygments_lexer": "ipython3",
   "version": "3.12.0"
  }
 },
 "nbformat": 4,
 "nbformat_minor": 2
}
